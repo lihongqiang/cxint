{
 "cells": [
  {
   "cell_type": "code",
   "execution_count": 61,
   "metadata": {
    "collapsed": true
   },
   "outputs": [],
   "source": [
    "from nltk.corpus import wordnet\n",
    "def getSynset(wnid):\n",
    "    pos = wnid[0]\n",
    "    offset = wnid[1:]\n",
    "    return wordnet._synset_from_pos_and_offset(pos,int(offset))\n",
    "def getWordnetID(syn):\n",
    "    return syn.pos()+('%08d' % syn.offset())"
   ]
  },
  {
   "cell_type": "code",
   "execution_count": 41,
   "metadata": {
    "collapsed": false
   },
   "outputs": [],
   "source": [
    "#获取openimage filtered synset列表\n",
    "f = open(\"./SynId_init.txt\")\n",
    "syns = []\n",
    "for synid in f:\n",
    "    tmpid = synid.strip('\\n')\n",
    "    syn = getSynset(tmpid)\n",
    "    syns.append(syn)"
   ]
  },
  {
   "cell_type": "code",
   "execution_count": 66,
   "metadata": {
    "collapsed": false
   },
   "outputs": [],
   "source": [
    "#获取imagenet attribute synset列表\n",
    "f_imagenet_attr = open(\"SynsetswithAttribute.txt\")\n",
    "syns_imagenet_attr = []\n",
    "for synid in f_imagenet_attr:\n",
    "    synid = synid.strip('\\n')\n",
    "    syns_imagenet_attr.append(getSynset(synid))"
   ]
  },
  {
   "cell_type": "code",
   "execution_count": 67,
   "metadata": {
    "collapsed": true
   },
   "outputs": [],
   "source": [
    "#获取imagenet classfication synset列表\n",
    "f_imagenet_label = open(\"synsets_ImageNet2012.txt\")\n",
    "syns_imagenet_label = []\n",
    "for synid in f_imagenet_label:\n",
    "    synid = synid.strip('\\n')\n",
    "    syns_imagenet_label.append(getSynset(synid))"
   ]
  },
  {
   "cell_type": "code",
   "execution_count": 73,
   "metadata": {
    "collapsed": false
   },
   "outputs": [
    {
     "name": "stdout",
     "output_type": "stream",
     "text": [
      "openimaget synset num is 872\n",
      "imagenet attribute num is 384\n",
      "imagenet label num is 1000\n",
      "union synset num is 2032\n"
     ]
    }
   ],
   "source": [
    "#合并三个来源的synset\n",
    "syns_union = set(syns) | set(syns_imagenet_attr) | set(syns_imagenet_label)\n",
    "print 'openimaget synset num is ' + str(len(syns))\n",
    "print 'imagenet attribute num is ' + str(len(syns_imagenet_attr))\n",
    "print 'imagenet label num is ' + str(len(syns_imagenet_label))\n",
    "print 'union synset num is ' + str(len(syns_union))"
   ]
  },
  {
   "cell_type": "code",
   "execution_count": 77,
   "metadata": {
    "collapsed": false
   },
   "outputs": [],
   "source": [
    "#计算每个synset的子节点,记录只要一个子节点的节点的子节点编号\n",
    "c = list(syns_union)\n",
    "syns_union_child = {}\n",
    "import numpy as np\n",
    "childs = np.zeros(len(syns_union))\n",
    "for i in range(len(syns_union)):\n",
    "    for j in range(len(syns_union)):\n",
    "        if i != j:\n",
    "            if syns_union[j] in syns_union[i].hyponyms():\n",
    "                childs[i] += 1  \n",
    "                syns_union_child[i] = j"
   ]
  },
  {
   "cell_type": "code",
   "execution_count": 80,
   "metadata": {
    "collapsed": false
   },
   "outputs": [
    {
     "name": "stdout",
     "output_type": "stream",
     "text": [
      "total num = 2032\n",
      "zero num = 1771\n",
      "one num = 112\n",
      "other num = 149\n"
     ]
    }
   ],
   "source": [
    "#找出有0,1，多个子节点的synset\n",
    "print 'total num = ' + str(len(childs))\n",
    "zero_num = 0\n",
    "zero_list = []\n",
    "one_num = 0\n",
    "one_list = []\n",
    "one_child = []\n",
    "other_num = 0\n",
    "for i,x in enumerate(childs):\n",
    "    if x == 0:\n",
    "        zero_num += 1\n",
    "        zero_list.append(i)\n",
    "    elif x == 1:\n",
    "        one_num += 1\n",
    "        one_list.append(i)\n",
    "        one_child.append(syns_union_child[i])\n",
    "    else:\n",
    "        other_num += 1\n",
    "print 'zero num = ' + str(zero_num)\n",
    "print 'one num = ' + str(one_num)\n",
    "print 'other num = ' + str(other_num)"
   ]
  },
  {
   "cell_type": "code",
   "execution_count": 94,
   "metadata": {
    "collapsed": false
   },
   "outputs": [
    {
     "name": "stdout",
     "output_type": "stream",
     "text": [
      "zero child synset num is 1771\n",
      "one child synset num is 112\n",
      "one child synset child num is 112\n",
      "the union of zero and one child sysnet is 1883\n",
      "above num remove one child synset is 1778\n"
     ]
    }
   ],
   "source": [
    "#输出不含子节点，加上含一个子节点，去掉一个子节点的子节点\n",
    "print 'zero child synset num is %d' % len(zero_list)\n",
    "print 'one child synset num is %d' % len(one_list)\n",
    "print 'one child synset child num is %d' % len(one_child)\n",
    "syns_union_filer = set(zero_list) | set(one_list)\n",
    "print 'the union of zero and one child sysnet is %d' % len(syns_union_filer)\n",
    "syns_union_filer = list(syns_union_filer - set(one_child))\n",
    "print 'above num remove one child synset is %d' % len(syns_union_filer)\n",
    "wf = open(\"course_union_synid.txt\", \"wb\")\n",
    "for i in syns_union_filer:\n",
    "    synid = getWordnetID(syns_union[i])\n",
    "    wf.write(synid + '\\n')"
   ]
  }
 ],
 "metadata": {
  "anaconda-cloud": {},
  "kernelspec": {
   "display_name": "Python 2",
   "language": "python",
   "name": "python2"
  },
  "language_info": {
   "codemirror_mode": {
    "name": "ipython",
    "version": 2
   },
   "file_extension": ".py",
   "mimetype": "text/x-python",
   "name": "python",
   "nbconvert_exporter": "python",
   "pygments_lexer": "ipython2",
   "version": "2.7.12"
  }
 },
 "nbformat": 4,
 "nbformat_minor": 1
}
